{
 "cells": [
  {
   "cell_type": "code",
   "execution_count": 3,
   "metadata": {
    "collapsed": false
   },
   "outputs": [],
   "source": [
    "import sys\n",
    "sys.path.append(\"/home/bugfree/Workspace/caffe/python_ext\")\n",
    "import lmdb_io\n",
    "import numpy as np"
   ]
  },
  {
   "cell_type": "code",
   "execution_count": null,
   "metadata": {
    "collapsed": false,
    "scrolled": true
   },
   "outputs": [],
   "source": [
    "if __name__ == \"__main__\":\n",
    "    fname = \"test_data_orig_scale\"    \n",
    "    basedir = \"/mnt/disk1/bugfree/PAT/data/\"\n",
    "    input_name = fname + '.txt'\n",
    "    lmdb_name = fname + '.lmdb'\n",
    "    lmdb_name_label = fname + '_label.lmdb' \n",
    "    finput = basedir + input_name\n",
    "    flmdb = basedir + lmdb_name\n",
    "    flmdb_label = basedir + lmdb_name_label\n",
    "\n",
    "    db = lmdb_io.lmdb_npy(flmdb)    \n",
    "    db_label = lmdb_io.lmdb_npy(flmdb_label)\n",
    "    data_dim = 300\n",
    "    label_dim = 1\n",
    "    \n",
    "    f = open(finput,'r')\n",
    "    for idx,line in enumerate(f):\n",
    "        if idx % 1000 == 0:\n",
    "            print \"iter: %d \" %(idx)\n",
    "        data, label = line = line.strip().split(';')\n",
    "        data = map(float, data.strip().split(','))\n",
    "        label = map(float, label.strip().split(','))\n",
    "        # convert them into numpy format\n",
    "        data = np.array(data, dtype=np.float32)\n",
    "        label = np.array(label, dtype=np.float32)\n",
    "        # reshape the data if necessary\n",
    "        data = data.reshape(data_dim)\n",
    "        label = label.reshape(label_dim)\n",
    "        # generate keys, needs to make sure no collision \n",
    "        key = \"%09d\" %idx\n",
    "        # db.set_multiple(key, {\"data\": data, \"label\": label})\n",
    "        db.set(key,data)\n",
    "        db_label.set(key,label)\n",
    "        \n",
    "    # print db.get('000000000')['label']"
   ]
  }
 ],
 "metadata": {
  "kernelspec": {
   "display_name": "Python 2",
   "language": "python",
   "name": "python2"
  },
  "language_info": {
   "codemirror_mode": {
    "name": "ipython",
    "version": 2
   },
   "file_extension": ".py",
   "mimetype": "text/x-python",
   "name": "python",
   "nbconvert_exporter": "python",
   "pygments_lexer": "ipython2",
   "version": "2.7.6"
  }
 },
 "nbformat": 4,
 "nbformat_minor": 0
}
