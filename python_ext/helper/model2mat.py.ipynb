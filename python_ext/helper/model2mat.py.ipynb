{
 "cells": [
  {
   "cell_type": "code",
   "execution_count": 4,
   "metadata": {
    "collapsed": true
   },
   "outputs": [],
   "source": [
    "import caffe\n",
    "import numpy as np\n",
    "import scipy.io as sio"
   ]
  },
  {
   "cell_type": "code",
   "execution_count": 5,
   "metadata": {
    "collapsed": false
   },
   "outputs": [],
   "source": [
    "def get_param(net):\n",
    "    '''\n",
    "    This function is used to save the parameter \n",
    "    of a deep network to a .mat file 2:30 pm - 4 pm CT. today, at Rm 5239 BI\n",
    "    input -- a caffe net with weights you want\n",
    "    '''\n",
    "    saved_param = {}\n",
    "    for layer_name, layer_param in net.params.items():\n",
    "        for idx, param in enumerate(layer_param):\n",
    "            if idx == 0:\n",
    "                saved_name = layer_name + '_weights'\n",
    "            elif idx == 1:\n",
    "                saved_name = layer_name + '_bias'\n",
    "            else:\n",
    "                raise ValueError('Should no other parameters beside weights and bias.')\n",
    "        \n",
    "            if saved_name not in saved_param:\n",
    "                saved_param[saved_name] = param.data\n",
    "            else:\n",
    "                raise ValueError('Variable name collapse.')\n",
    "    return saved_param"
   ]
  },
  {
   "cell_type": "code",
   "execution_count": 6,
   "metadata": {
    "collapsed": false
   },
   "outputs": [],
   "source": [
    "if __name__ == \"__main__\":\n",
    "    root_path = \"/mnt/disk1/bugfree/PAT/pat1m-sgd-15-03-2016-1e-05\"\n",
    "    net_path = root_path + \"/net.prototxt\"\n",
    "    model_path = root_path + \"/_iter_10000000.caffemodel\"\n",
    "    matfile_path = root_path + \"/_iter_10000000.mat\"\n",
    "    \n",
    "    net = caffe.Net(net_path, model_path, caffe.TEST)\n",
    "    param = get_param(net)\n",
    "    # save it in a matlab format \n",
    "    sio.savemat(matfile_path, param)\n",
    "        \n",
    "    \n",
    "    \n",
    "    \n",
    "    \n",
    "    \n",
    "    "
   ]
  }
 ],
 "metadata": {
  "kernelspec": {
   "display_name": "Python 2",
   "language": "python",
   "name": "python2"
  },
  "language_info": {
   "codemirror_mode": {
    "name": "ipython",
    "version": 2
   },
   "file_extension": ".py",
   "mimetype": "text/x-python",
   "name": "python",
   "nbconvert_exporter": "python",
   "pygments_lexer": "ipython2",
   "version": "2.7.6"
  }
 },
 "nbformat": 4,
 "nbformat_minor": 0
}
