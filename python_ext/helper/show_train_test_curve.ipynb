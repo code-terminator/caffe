{
 "cells": [
  {
   "cell_type": "code",
   "execution_count": 3,
   "metadata": {
    "collapsed": true
   },
   "outputs": [],
   "source": [
    "import sys\n",
    "sys.path.append(\"/home/bugfree/Workspace/caffe/tools/extra\")\n",
    "import parse_log\n",
    "import matplotlib.pyplot as plt"
   ]
  },
  {
   "cell_type": "code",
   "execution_count": 4,
   "metadata": {
    "collapsed": false
   },
   "outputs": [],
   "source": [
    "if __name__ == \"__main__\":\n",
    "    logfile_path = \"/mnt/disk1/bugfree/PAT/pat1m-sgd-16-03-2016-1e-05/LOG20160316-110910.2016\"\n",
    "    train_dict_list, test_dict_list = parse_log.parse_log(logfile_path)\n",
    "    train_iter = [0]*len(train_dict_list)\n",
    "    train_error = [0]*len(train_dict_list)\n",
    "    test_iter = [0]*len(test_dict_list)\n",
    "    test_error = [0]*len(test_dict_list)\n",
    "    for idx, info in enumerate(train_dict_list):\n",
    "        train_iter[idx] = int(info['NumIters'])\n",
    "        train_error[idx] = info['EuclideanLoss1']\n",
    "    for idx, info in enumerate(test_dict_list):\n",
    "        test_iter[idx] = int(info['NumIters'])\n",
    "        test_error[idx] = info['EuclideanLoss1'] \n",
    "    # plot \n",
    "    plt.plot(train_iter[10::],train_error[10::],'g',test_iter[1::],test_error[1::],'b')\n",
    "    plt.show()\n",
    "           "
   ]
  },
  {
   "cell_type": "code",
   "execution_count": null,
   "metadata": {
    "collapsed": false
   },
   "outputs": [],
   "source": []
  }
 ],
 "metadata": {
  "kernelspec": {
   "display_name": "Python 2",
   "language": "python",
   "name": "python2"
  },
  "language_info": {
   "codemirror_mode": {
    "name": "ipython",
    "version": 2
   },
   "file_extension": ".py",
   "mimetype": "text/x-python",
   "name": "python",
   "nbconvert_exporter": "python",
   "pygments_lexer": "ipython2",
   "version": "2.7.6"
  }
 },
 "nbformat": 4,
 "nbformat_minor": 0
}
